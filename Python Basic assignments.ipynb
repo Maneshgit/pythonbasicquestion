{
 "cells": [
  {
   "cell_type": "code",
   "execution_count": 1,
   "id": "7254d36e",
   "metadata": {},
   "outputs": [
    {
     "name": "stdout",
     "output_type": "stream",
     "text": [
      "162.8894626777442\n"
     ]
    }
   ],
   "source": [
    "#question1\n",
    "n,r,p=10,5,100\n",
    "x=1+r/100\n",
    "rts=p*pow(x,n)\n",
    "print(rts)"
   ]
  },
  {
   "cell_type": "code",
   "execution_count": 13,
   "id": "29640976",
   "metadata": {},
   "outputs": [
    {
     "name": "stdout",
     "output_type": "stream",
     "text": [
      "There are 20 students in the class, with 10 who play atleast one sport\n"
     ]
    }
   ],
   "source": [
    "#question2\n",
    "a=10\n",
    "b=20\n",
    "txt=\"There are {:} students in the class, with {:} who play atleast one sport\"\n",
    "print(txt.format(b,a))"
   ]
  },
  {
   "cell_type": "code",
   "execution_count": 19,
   "id": "d9d8fc2a",
   "metadata": {},
   "outputs": [
    {
     "name": "stdout",
     "output_type": "stream",
     "text": [
      "It goes without saying, \"Time is Money\", and none can deny it.\n"
     ]
    }
   ],
   "source": [
    "#question3\n",
    "print(\"It goes without saying, \\\"Time is Money\\\", and none can deny it.\")\n"
   ]
  },
  {
   "cell_type": "code",
   "execution_count": 20,
   "id": "71cac7a2",
   "metadata": {},
   "outputs": [
    {
     "data": {
      "text/plain": [
       "3"
      ]
     },
     "execution_count": 20,
     "metadata": {},
     "output_type": "execute_result"
    }
   ],
   "source": [
    "#question4\n",
    "x = lambda a,b: a//b\n",
    "x(10,3)"
   ]
  },
  {
   "cell_type": "code",
   "execution_count": 21,
   "id": "4dfcc41f",
   "metadata": {},
   "outputs": [
    {
     "name": "stdout",
     "output_type": "stream",
     "text": [
      "Greater\n"
     ]
    }
   ],
   "source": [
    "#question5\n",
    "A = 10\n",
    "B = 12\n",
    "print(\"Smaller\") if A == B else print(\"Greater\") if A < B else print(\"True\")\n"
   ]
  },
  {
   "cell_type": "code",
   "execution_count": 25,
   "id": "b11752d2",
   "metadata": {},
   "outputs": [
    {
     "name": "stdout",
     "output_type": "stream",
     "text": [
      "[2, 7, 3, 5, 4, 3]\n",
      "[2 7 3 5 4 3]\n"
     ]
    }
   ],
   "source": [
    "#question6\n",
    "import os\n",
    "import numpy as np\n",
    "lst=[2,7,3,5,4,3]\n",
    "print(lst)\n",
    "a_rr1=np.array(lst,dtype=int)\n",
    "print(a_rr1)"
   ]
  },
  {
   "cell_type": "code",
   "execution_count": 1,
   "id": "94d2009a",
   "metadata": {},
   "outputs": [
    {
     "name": "stdout",
     "output_type": "stream",
     "text": [
      "Learn\n"
     ]
    }
   ],
   "source": [
    "#question7\n",
    "stri=\"Machine Learning\"\n",
    "resl= stri[slice(8,13,1)]\n",
    "print(resl)"
   ]
  },
  {
   "cell_type": "code",
   "execution_count": 28,
   "id": "a38c9c7b",
   "metadata": {},
   "outputs": [
    {
     "name": "stdout",
     "output_type": "stream",
     "text": [
      "[14, 18, 22, 26]\n",
      "0 14\n",
      "1 18\n",
      "2 22\n",
      "3 26\n"
     ]
    }
   ],
   "source": [
    "#question8\n",
    "ns=[]\n",
    "nl=[]\n",
    "for i in range(10,25,4):\n",
    "    i+= 4\n",
    "    nl.append(i)\n",
    "print(nl)\n",
    "for index,i in enumerate(nl):\n",
    " print(index,i)\n",
    "\n"
   ]
  },
  {
   "cell_type": "code",
   "execution_count": 29,
   "id": "d4645beb",
   "metadata": {},
   "outputs": [
    {
     "name": "stdout",
     "output_type": "stream",
     "text": [
      "625 625\n"
     ]
    }
   ],
   "source": [
    "#question9\n",
    "num1=5**4\n",
    "num2=pow(5,4)\n",
    "print(num1,num2)"
   ]
  },
  {
   "cell_type": "code",
   "execution_count": null,
   "id": "1dc76c79",
   "metadata": {},
   "outputs": [],
   "source": [
    "#A Python NameError exception is raised when:Trying to access a variable which has not been defined\n"
   ]
  },
  {
   "cell_type": "code",
   "execution_count": 31,
   "id": "59d6207a",
   "metadata": {},
   "outputs": [
    {
     "ename": "ValueError",
     "evalue": "invalid literal for int() with base 10: 'string'",
     "output_type": "error",
     "traceback": [
      "\u001b[1;31m---------------------------------------------------------------------------\u001b[0m",
      "\u001b[1;31mValueError\u001b[0m                                Traceback (most recent call last)",
      "\u001b[1;32m~\\AppData\\Local\\Temp/ipykernel_17412/1188914749.py\u001b[0m in \u001b[0;36m<module>\u001b[1;34m\u001b[0m\n\u001b[0;32m      1\u001b[0m \u001b[1;31m#question11\u001b[0m\u001b[1;33m\u001b[0m\u001b[1;33m\u001b[0m\u001b[0m\n\u001b[0;32m      2\u001b[0m \u001b[0mx\u001b[0m\u001b[1;33m=\u001b[0m\u001b[1;34m\"string\"\u001b[0m\u001b[1;33m\u001b[0m\u001b[1;33m\u001b[0m\u001b[0m\n\u001b[1;32m----> 3\u001b[1;33m \u001b[0mint\u001b[0m\u001b[1;33m(\u001b[0m\u001b[0mx\u001b[0m\u001b[1;33m)\u001b[0m\u001b[1;33m\u001b[0m\u001b[1;33m\u001b[0m\u001b[0m\n\u001b[0m",
      "\u001b[1;31mValueError\u001b[0m: invalid literal for int() with base 10: 'string'"
     ]
    }
   ],
   "source": [
    "#question11\n",
    "x=\"string\"\n",
    "int(x)"
   ]
  },
  {
   "cell_type": "code",
   "execution_count": null,
   "id": "e924660b",
   "metadata": {},
   "outputs": [],
   "source": [
    "#question12 A FileNotFoundError exception is raised by operating system errors when: -\n",
    "#A file or directory is requested but does not exist in the working director"
   ]
  },
  {
   "cell_type": "code",
   "execution_count": 34,
   "id": "aac6e77b",
   "metadata": {},
   "outputs": [
    {
     "data": {
      "text/plain": [
       "str"
      ]
     },
     "execution_count": 34,
     "metadata": {},
     "output_type": "execute_result"
    }
   ],
   "source": [
    "#question13 \n",
    "type(\"ID-5632\")\n"
   ]
  },
  {
   "cell_type": "code",
   "execution_count": null,
   "id": "2c6ae6cb",
   "metadata": {},
   "outputs": [],
   "source": [
    "#question14\n",
    "All of the Above\n"
   ]
  },
  {
   "cell_type": "code",
   "execution_count": null,
   "id": "9ba643e2",
   "metadata": {},
   "outputs": [],
   "source": [
    "#Q15.Choose the symbol/s that does not have the ability to convert any values to string?#"
   ]
  },
  {
   "cell_type": "code",
   "execution_count": 24,
   "id": "4f55db6d",
   "metadata": {},
   "outputs": [
    {
     "name": "stdout",
     "output_type": "stream",
     "text": [
      "{'Country': ['India', 'China', 'Japan', 'Qatar', 'France'], 'State': ['Delhi', 'Beijing', 'Tokyo', 'Doha', 'paris']}\n"
     ]
    }
   ],
   "source": [
    "#Q16\n",
    "import pandas as pd\n",
    "dict1={'Country':['India','China','Japan','Qatar','France'],'State':['Delhi','Beijing','Tokyo','Doha','Marselies']}\n",
    "rs=dict1.update({'State':['Delhi','Beijing','Tokyo','Doha','paris']})\n",
    "print(dict1)\n",
    "       "
   ]
  },
  {
   "cell_type": "code",
   "execution_count": 27,
   "id": "3313e4b2",
   "metadata": {},
   "outputs": [
    {
     "name": "stdout",
     "output_type": "stream",
     "text": [
      "27\n",
      "3\n",
      "(8, 9, 4, 1, 5, 6, 7, 8)\n",
      "7\n"
     ]
    }
   ],
   "source": [
    "#Q17\n",
    "tuple_1 = (1,5,6,7,8)\n",
    "tuple_2 = (8,9,4)\n",
    "print(sum(tuple_1))\n",
    "print(len(tuple_2))\n",
    "print(tuple_2 + tuple_1)\n",
    "print(tuple_1[3])\n",
    "#D doesnt work\n"
   ]
  },
  {
   "cell_type": "code",
   "execution_count": 46,
   "id": "f6b2e715",
   "metadata": {},
   "outputs": [],
   "source": [
    "#Q18\n",
    "def pythagoreanTriplets(limits):\n",
    "     c, m = 1, 2\n",
    "     while c < limits:\n",
    "         for n in range(1, m):\n",
    "             a = m * m - n * n\n",
    "             b = 2 * m * n\n",
    "             c = m * m + n * n\n",
    "             print(a, b, c)\n",
    "             if c > limits:\n",
    "                 break\n",
    "             print(a, b, c)\n",
    "         m = m + 1\n",
    " # Driver Code\n",
    "\n",
    "pythagoreanTriplets(1)\n"
   ]
  },
  {
   "cell_type": "code",
   "execution_count": 29,
   "id": "7f58832e",
   "metadata": {},
   "outputs": [
    {
     "name": "stdout",
     "output_type": "stream",
     "text": [
      "{0: 0, 1: 1, 2: 4, 3: 9, 4: 16, 5: 25, 6: 36, 7: 49, 8: 64, 9: 81, 10: 100}\n",
      "0 - 0\n",
      "1 - 1\n",
      "2 - 4\n",
      "3 - 9\n",
      "4 - 16\n",
      "5 - 25\n",
      "6 - 36\n",
      "7 - 49\n",
      "8 - 64\n",
      "9 - 81\n",
      "10 - 100\n"
     ]
    }
   ],
   "source": [
    "nt=[]\n",
    "for i in range(11):\n",
    "  nt.append(i)\n",
    "#print(nt)\n",
    "dict={sq:pow(sq,2) for sq in nt}\n",
    "print(dict)\n",
    "for x,y in dict.items():\n",
    "    print(x,'-',y)\n",
    "    \n",
    "  "
   ]
  },
  {
   "cell_type": "code",
   "execution_count": 32,
   "id": "af631635",
   "metadata": {},
   "outputs": [
    {
     "ename": "TypeError",
     "evalue": "'builtin_function_or_method' object is not subscriptable",
     "output_type": "error",
     "traceback": [
      "\u001b[1;31m---------------------------------------------------------------------------\u001b[0m",
      "\u001b[1;31mTypeError\u001b[0m                                 Traceback (most recent call last)",
      "\u001b[1;32m~\\AppData\\Local\\Temp/ipykernel_17444/2871374942.py\u001b[0m in \u001b[0;36m<module>\u001b[1;34m\u001b[0m\n\u001b[0;32m      4\u001b[0m \u001b[1;31m#print(nt)\u001b[0m\u001b[1;33m\u001b[0m\u001b[1;33m\u001b[0m\u001b[0m\n\u001b[0;32m      5\u001b[0m \u001b[1;32mfor\u001b[0m \u001b[0msq\u001b[0m \u001b[1;32min\u001b[0m \u001b[0mnt\u001b[0m\u001b[1;33m:\u001b[0m\u001b[1;33m\u001b[0m\u001b[1;33m\u001b[0m\u001b[0m\n\u001b[1;32m----> 6\u001b[1;33m     \u001b[0mdicti\u001b[0m\u001b[1;33m=\u001b[0m\u001b[1;33m[\u001b[0m\u001b[0msq\u001b[0m\u001b[1;33m]\u001b[0m\u001b[1;33m.\u001b[0m\u001b[0mappend\u001b[0m\u001b[1;33m[\u001b[0m\u001b[0msq\u001b[0m\u001b[1;33m*\u001b[0m\u001b[0msq\u001b[0m\u001b[1;33m]\u001b[0m\u001b[1;33m\u001b[0m\u001b[1;33m\u001b[0m\u001b[0m\n\u001b[0m\u001b[0;32m      7\u001b[0m \u001b[0mprint\u001b[0m\u001b[1;33m(\u001b[0m\u001b[0mdicti\u001b[0m\u001b[1;33m)\u001b[0m\u001b[1;33m\u001b[0m\u001b[1;33m\u001b[0m\u001b[0m\n",
      "\u001b[1;31mTypeError\u001b[0m: 'builtin_function_or_method' object is not subscriptable"
     ]
    }
   ],
   "source": [
    "nt=[]\n",
    "for i in range(11):\n",
    "  nt.append(i)\n",
    "#print(nt)\n",
    "for sq in nt:\n",
    "    dicti=[sq].append[sq*sq]\n",
    "print(dicti)"
   ]
  },
  {
   "cell_type": "code",
   "execution_count": 37,
   "id": "6c06f3f5",
   "metadata": {},
   "outputs": [
    {
     "name": "stdout",
     "output_type": "stream",
     "text": [
      "[0, 2, 4, 6, 8, 10]\n",
      "(0, 2, 4, 6, 8, 10)\n",
      "0\n",
      "2\n",
      "4\n",
      "6\n",
      "8\n",
      "10\n"
     ]
    }
   ],
   "source": [
    "ntup=[]\n",
    "for i in range(11):\n",
    "  if i%2==0:\n",
    "     ntup.append(i)\n",
    "print(ntup)\n",
    "rtup=tuple(ntup)\n",
    "print(rtup)\n",
    "for i in rtup:\n",
    "    print(i)"
   ]
  },
  {
   "cell_type": "code",
   "execution_count": 40,
   "id": "af082898",
   "metadata": {},
   "outputs": [
    {
     "name": "stdout",
     "output_type": "stream",
     "text": [
      "[3, 5, 7, 9, 11]\n",
      "{3, 5, 7, 9, 11}\n",
      "3\n",
      "5\n",
      "7\n",
      "9\n",
      "11\n"
     ]
    }
   ],
   "source": [
    "nset=[]\n",
    "for i in range(1,11):\n",
    "  if i%2==0:\n",
    "     nset.append(i+1)\n",
    "print(nset)\n",
    "set1=set(nset)\n",
    "print(set1)\n",
    "for i in set1:\n",
    "    print(i)"
   ]
  },
  {
   "cell_type": "code",
   "execution_count": 42,
   "id": "24c30a7f",
   "metadata": {},
   "outputs": [
    {
     "name": "stdout",
     "output_type": "stream",
     "text": [
      "[1, 2]\n",
      "[3, 4]\n",
      "[5, 6]\n"
     ]
    }
   ],
   "source": [
    "ra=[[1,2],[3,4],[5,6]]\n",
    "for i in ra:\n",
    "    print(i)"
   ]
  },
  {
   "cell_type": "code",
   "execution_count": 48,
   "id": "33c0144f",
   "metadata": {},
   "outputs": [
    {
     "name": "stdout",
     "output_type": "stream",
     "text": [
      "{'one': 1}\n",
      "{'two': 2}\n",
      "{'three': 3}\n"
     ]
    }
   ],
   "source": [
    "da={1:{'one':1},2:{'two':2},3:{'three':3}}\n",
    "for i in da.values():\n",
    "    print(i)"
   ]
  },
  {
   "cell_type": "code",
   "execution_count": null,
   "id": "7d7cfe19",
   "metadata": {},
   "outputs": [],
   "source": [
    "i=1\n",
    "while i<=101:\n",
    "    print(i)\n",
    "    i=i+1"
   ]
  },
  {
   "cell_type": "code",
   "execution_count": 61,
   "id": "c07db329",
   "metadata": {},
   "outputs": [
    {
     "name": "stdout",
     "output_type": "stream",
     "text": [
      "2Even\n",
      "3Not Even\n",
      "4Even\n",
      "5Not Even\n",
      "6Even\n",
      "7Not Even\n",
      "8Even\n",
      "9Not Even\n",
      "10Even\n",
      "11Not Even\n",
      "12Even\n",
      "13Not Even\n",
      "14Even\n",
      "15Not Even\n",
      "16Even\n",
      "17Not Even\n",
      "18Even\n",
      "19Not Even\n",
      "20Even\n",
      "21Not Even\n",
      "22Even\n",
      "23Not Even\n",
      "24Even\n",
      "25Not Even\n",
      "26Even\n",
      "27Not Even\n",
      "28Even\n",
      "29Not Even\n",
      "30Even\n",
      "31Not Even\n",
      "32Even\n",
      "33Not Even\n",
      "34Even\n",
      "35Not Even\n",
      "36Even\n",
      "37Not Even\n",
      "38Even\n",
      "39Not Even\n",
      "40Even\n",
      "41Not Even\n",
      "42Even\n",
      "43Not Even\n",
      "44Even\n",
      "45Not Even\n",
      "46Even\n",
      "47Not Even\n",
      "48Even\n",
      "49Not Even\n",
      "50Even\n",
      "51Not Even\n",
      "52Even\n",
      "53Not Even\n",
      "54Even\n",
      "55Not Even\n",
      "56Even\n",
      "57Not Even\n",
      "58Even\n",
      "59Not Even\n",
      "60Even\n",
      "61Not Even\n",
      "62Even\n",
      "63Not Even\n",
      "64Even\n",
      "65Not Even\n",
      "66Even\n",
      "67Not Even\n",
      "68Even\n",
      "69Not Even\n",
      "70Even\n",
      "71Not Even\n",
      "72Even\n",
      "73Not Even\n",
      "74Even\n",
      "75Not Even\n",
      "76Even\n",
      "77Not Even\n",
      "78Even\n",
      "79Not Even\n",
      "80Even\n",
      "81Not Even\n",
      "82Even\n",
      "83Not Even\n",
      "84Even\n",
      "85Not Even\n",
      "86Even\n",
      "87Not Even\n",
      "88Even\n",
      "89Not Even\n",
      "90Even\n",
      "91Not Even\n",
      "92Even\n",
      "93Not Even\n",
      "94Even\n",
      "95Not Even\n",
      "96Even\n",
      "97Not Even\n",
      "98Even\n",
      "99Not Even\n",
      "100Even\n",
      "101Not Even\n"
     ]
    }
   ],
   "source": [
    "i = 1\n",
    "while i < 101:\n",
    "  #print(i)\n",
    "  i += 1\n",
    "  if i%2==0:\n",
    "    print(str(i)+ 'Even')\n",
    "  else:\n",
    "    print(str(i) + 'Not Even')\n",
    "    "
   ]
  },
  {
   "cell_type": "code",
   "execution_count": 63,
   "id": "6f4ecde8",
   "metadata": {},
   "outputs": [
    {
     "name": "stdout",
     "output_type": "stream",
     "text": [
      "3\n",
      "6\n",
      "9\n",
      "12\n",
      "15\n"
     ]
    }
   ],
   "source": [
    "i=1\n",
    "while i<6:\n",
    "  r=i*3\n",
    "  i=i+1\n",
    "  print(r)"
   ]
  },
  {
   "cell_type": "code",
   "execution_count": 65,
   "id": "63040db9",
   "metadata": {},
   "outputs": [
    {
     "name": "stdout",
     "output_type": "stream",
     "text": [
      "3\n",
      "6\n",
      "9\n",
      "12\n",
      "15\n"
     ]
    }
   ],
   "source": [
    "for i in range(1,6):\n",
    "  r=i*3\n",
    "  #=i+1\n",
    "  print(r)"
   ]
  },
  {
   "cell_type": "code",
   "execution_count": 80,
   "id": "e1b1d86f",
   "metadata": {},
   "outputs": [
    {
     "name": "stdout",
     "output_type": "stream",
     "text": [
      "3\n",
      "6\n",
      "9\n",
      "12\n"
     ]
    }
   ],
   "source": [
    "i=1\n",
    "while i<=6:\n",
    "    if i==6:\n",
    "     continue;\n",
    "    elif i==5:\n",
    "     break; \n",
    "    else:\n",
    "     r=i*3\n",
    "     i=i+1\n",
    "     print(r) \n",
    "   \n",
    "\n",
    "  "
   ]
  },
  {
   "cell_type": "code",
   "execution_count": 77,
   "id": "328c9eb0",
   "metadata": {},
   "outputs": [
    {
     "ename": "SyntaxError",
     "evalue": "invalid syntax (Temp/ipykernel_17444/3197272352.py, line 7)",
     "output_type": "error",
     "traceback": [
      "\u001b[1;36m  File \u001b[1;32m\"C:\\Users\\manes\\AppData\\Local\\Temp/ipykernel_17444/3197272352.py\"\u001b[1;36m, line \u001b[1;32m7\u001b[0m\n\u001b[1;33m    else:\u001b[0m\n\u001b[1;37m    ^\u001b[0m\n\u001b[1;31mSyntaxError\u001b[0m\u001b[1;31m:\u001b[0m invalid syntax\n"
     ]
    }
   ],
   "source": [
    "till=0;\n",
    "while till<20:\n",
    "    till = till+1;\n",
    "    if(till%2 == 0):\n",
    "        continue;\n",
    "    print(till, end=' ');\n",
    "    else:\n",
    "      break;\n",
    "#end while"
   ]
  },
  {
   "cell_type": "code",
   "execution_count": 88,
   "id": "21b7e418",
   "metadata": {},
   "outputs": [
    {
     "name": "stdout",
     "output_type": "stream",
     "text": [
      "1\n",
      "2\n",
      "3\n",
      "4\n"
     ]
    }
   ],
   "source": [
    "for i in range(1,6):\n",
    "    if i==6:\n",
    "     continue;\n",
    "    elif i==5:\n",
    "     break; \n",
    "    else:\n",
    "     pass;\n",
    "    print(i)"
   ]
  },
  {
   "cell_type": "code",
   "execution_count": 10,
   "id": "b35895f0",
   "metadata": {},
   "outputs": [
    {
     "name": "stdout",
     "output_type": "stream",
     "text": [
      "Learn\n"
     ]
    }
   ],
   "source": [
    "stri=\"Machine Learning\"\n",
    "resl= stri[slice(8,13,1)]\n",
    "print(resl)"
   ]
  },
  {
   "cell_type": "code",
   "execution_count": 1,
   "id": "7dca4639",
   "metadata": {},
   "outputs": [],
   "source": [
    "def convert_to_words(num):\n",
    "  \n",
    "    # Get number of digits\n",
    "    # in given number\n",
    "    l = len(num)\n",
    "  \n",
    "    # Base cases\n",
    "    if (l == 0):\n",
    "        print(\"empty string\")\n",
    "        return\n",
    "  \n",
    "    if (l > 4):\n",
    "        print(\"Length more than 4 is not supported\")\n",
    "        return\n",
    "  \n",
    "    # The first string is not used,\n",
    "    # it is to make array indexing simple\n",
    "    single_digits = [\"zero\", \"one\", \"two\", \"three\",\n",
    "                     \"four\", \"five\", \"six\", \"seven\",\n",
    "                     \"eight\", \"nine\"]\n",
    "  \n",
    "    # The first string is not used,\n",
    "    # it is to make array indexing simple\n",
    "    two_digits = [\"\", \"ten\", \"eleven\", \"twelve\",\n",
    "                  \"thirteen\", \"fourteen\", \"fifteen\",\n",
    "                  \"sixteen\", \"seventeen\", \"eighteen\",\n",
    "                  \"nineteen\"]\n",
    "  \n",
    "    # The first two string are not used,\n",
    "    # they are to make array indexing simple\n",
    "    tens_multiple = [\"\", \"\", \"twenty\", \"thirty\", \"forty\",\n",
    "                     \"fifty\", \"sixty\", \"seventy\", \"eighty\",\n",
    "                     \"ninety\"]\n",
    "  \n",
    "    tens_power = [\"hundred\", \"thousand\"]\n",
    "  \n",
    "    # Used for debugging purpose only\n",
    "    print(num, \":\", end=\" \")\n",
    "  \n",
    "    # For single digit number\n",
    "    if (l == 1):\n",
    "        print(single_digits[ord(num[0]) - 48])\n",
    "        return\n",
    "  \n",
    "    # Iterate while num is not '\\0'\n",
    "    x = 0\n",
    "    while (x < len(num)):\n",
    "  \n",
    "        # Code path for first 2 digits\n",
    "        if (l >= 3):\n",
    "            if (ord(num[x]) - 48 != 0):\n",
    "                print(single_digits[ord(num[x]) - 48],\n",
    "                      end=\" \")\n",
    "                print(tens_power[l - 3], end=\" \")\n",
    "                # here len can be 3 or 4\n",
    "  \n",
    "            l -= 1\n",
    "  \n",
    "        # Code path for last 2 digits\n",
    "        else:\n",
    "  \n",
    "            # Need to explicitly handle\n",
    "            # 10-19. Sum of the two digits\n",
    "            # is used as index of \"two_digits\"\n",
    "            # array of strings\n",
    "            if (ord(num[x]) - 48 == 1):\n",
    "                sum = (ord(num[x]) - 48 +\n",
    "                       ord(num[x+1]) - 48)\n",
    "                print(two_digits[sum])\n",
    "                return\n",
    "  \n",
    "            # Need to explicitly handle 20\n",
    "            elif (ord(num[x]) - 48 == 2 and\n",
    "                  ord(num[x + 1]) - 48 == 0):\n",
    "                print(\"twenty\")\n",
    "                return\n",
    "  \n",
    "            # Rest of the two digit\n",
    "            # numbers i.e., 21 to 99\n",
    "            else:\n",
    "                i = ord(num[x]) - 48\n",
    "                if(i > 0):\n",
    "                    print(tens_multiple[i], end=\" \")\n",
    "                else:\n",
    "                    print(\"\", end=\"\")\n",
    "                x += 1\n",
    "                if(ord(num[x]) - 48 != 0):\n",
    "                    print(single_digits[ord(num[x]) - 48])\n",
    "        x += 1"
   ]
  },
  {
   "cell_type": "code",
   "execution_count": 2,
   "id": "e5378fe5",
   "metadata": {},
   "outputs": [
    {
     "name": "stdout",
     "output_type": "stream",
     "text": [
      "Length more than 4 is not supported\n"
     ]
    }
   ],
   "source": [
    "convert_to_words(\"79511406\")"
   ]
  },
  {
   "cell_type": "code",
   "execution_count": 3,
   "id": "da486dd1",
   "metadata": {},
   "outputs": [
    {
     "ename": "ModuleNotFoundError",
     "evalue": "No module named 'num2words'",
     "output_type": "error",
     "traceback": [
      "\u001b[1;31m---------------------------------------------------------------------------\u001b[0m",
      "\u001b[1;31mModuleNotFoundError\u001b[0m                       Traceback (most recent call last)",
      "\u001b[1;32m~\\AppData\\Local\\Temp/ipykernel_4364/17951077.py\u001b[0m in \u001b[0;36m<module>\u001b[1;34m\u001b[0m\n\u001b[1;32m----> 1\u001b[1;33m \u001b[1;32mfrom\u001b[0m \u001b[0mnum2words\u001b[0m \u001b[1;32mimport\u001b[0m \u001b[0mnum2words\u001b[0m\u001b[1;33m\u001b[0m\u001b[1;33m\u001b[0m\u001b[0m\n\u001b[0m\u001b[0;32m      2\u001b[0m \u001b[1;33m\u001b[0m\u001b[0m\n\u001b[0;32m      3\u001b[0m \u001b[1;31m# Most common usage.\u001b[0m\u001b[1;33m\u001b[0m\u001b[1;33m\u001b[0m\u001b[0m\n\u001b[0;32m      4\u001b[0m \u001b[0mprint\u001b[0m\u001b[1;33m(\u001b[0m\u001b[0mnum2words\u001b[0m\u001b[1;33m(\u001b[0m\u001b[1;36m36\u001b[0m\u001b[1;33m)\u001b[0m\u001b[1;33m)\u001b[0m\u001b[1;33m\u001b[0m\u001b[1;33m\u001b[0m\u001b[0m\n\u001b[0;32m      5\u001b[0m \u001b[1;33m\u001b[0m\u001b[0m\n",
      "\u001b[1;31mModuleNotFoundError\u001b[0m: No module named 'num2words'"
     ]
    }
   ],
   "source": [
    "from num2words import num2words\n",
    "  \n",
    "# Most common usage.\n",
    "print(num2words(36))\n",
    "  \n",
    "# Other variants, according to the type of article.\n",
    "print(num2words(36, to = 'ordinal'))\n",
    "print(num2words(36, to = 'ordinal_num'))\n",
    "print(num2words(36, to = 'year'))\n",
    "print(num2words(36, to = 'currency'))\n",
    "  \n",
    "# Language Support.\n",
    "print(num2words(36, lang ='es'))"
   ]
  },
  {
   "cell_type": "code",
   "execution_count": null,
   "id": "16842e57",
   "metadata": {},
   "outputs": [],
   "source": []
  }
 ],
 "metadata": {
  "kernelspec": {
   "display_name": "Python 3 (ipykernel)",
   "language": "python",
   "name": "python3"
  },
  "language_info": {
   "codemirror_mode": {
    "name": "ipython",
    "version": 3
   },
   "file_extension": ".py",
   "mimetype": "text/x-python",
   "name": "python",
   "nbconvert_exporter": "python",
   "pygments_lexer": "ipython3",
   "version": "3.9.7"
  }
 },
 "nbformat": 4,
 "nbformat_minor": 5
}
